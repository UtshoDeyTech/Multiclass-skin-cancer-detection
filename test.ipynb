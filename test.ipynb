{
 "cells": [
  {
   "cell_type": "code",
   "execution_count": null,
   "metadata": {},
   "outputs": [],
   "source": [
    "import cv2\n",
    "import numpy as np\n",
    "import matplotlib.pyplot as plt\n",
    "\n",
    "def plot_rgb_histograms(original_img, normalized_img):\n",
    "    colors = ('b', 'g', 'r')\n",
    "    plt.figure(figsize=(15, 5))\n",
    "    \n",
    "    # Original image histograms\n",
    "    plt.subplot(121)\n",
    "    for i, color in enumerate(colors):\n",
    "        hist = cv2.calcHist([original_img], [i], None, [256], [0, 256])\n",
    "        plt.plot(hist, color=color)\n",
    "    plt.title('Original RGB Histograms')\n",
    "    plt.xlabel('Pixel Value')\n",
    "    plt.ylabel('Frequency')\n",
    "    \n",
    "    # Normalized image histograms\n",
    "    plt.subplot(122)\n",
    "    for i, color in enumerate(colors):\n",
    "        hist = cv2.calcHist([normalized_img], [i], None, [256], [0, 256])\n",
    "        plt.plot(hist, color=color)\n",
    "    plt.title('Normalized RGB Histograms')\n",
    "    plt.xlabel('Pixel Value')\n",
    "    plt.ylabel('Frequency')\n",
    "    \n",
    "    plt.tight_layout()\n",
    "    plt.show()\n",
    "\n",
    "# Read and process image\n",
    "img = cv2.imread('image.jpg')\n",
    "normalized_img = cv2.normalize(img, None, 0, 255, cv2.NORM_MINMAX)\n",
    "\n",
    "# Display RGB histograms\n",
    "plot_rgb_histograms(img, normalized_img)\n",
    "\n",
    "# Optional: Display images\n",
    "cv2.imshow('Original Image', img)\n",
    "cv2.imshow('Normalized Image', normalized_img)\n",
    "cv2.waitKey(0)\n",
    "cv2.destroyAllWindows()"
   ]
  }
 ],
 "metadata": {
  "kernelspec": {
   "display_name": "env",
   "language": "python",
   "name": "python3"
  },
  "language_info": {
   "name": "python",
   "version": "3.12.3"
  }
 },
 "nbformat": 4,
 "nbformat_minor": 2
}
